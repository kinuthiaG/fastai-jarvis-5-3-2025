{
 "cells": [
  {
   "cell_type": "markdown",
   "id": "f6027c1a-19c5-4470-8b0f-72e9d0d4e3de",
   "metadata": {},
   "source": [
    "## <font color=red> (D4-Computer Vision)[https://www.kaggle.com/competitions/d-4-computer-vision/data] data download 6-3-2025"
   ]
  },
  {
   "cell_type": "code",
   "execution_count": 1,
   "id": "a99795d6-d0ac-4fdd-bee7-3fd9c6ae3e70",
   "metadata": {
    "tags": []
   },
   "outputs": [
    {
     "name": "stdout",
     "output_type": "stream",
     "text": [
      "/Users/kinuthiagichuhi/AI_ML-18-12-2023/ all_my_notebooks/__FASTAI-Jarvislabs 27-2-2025/kaggle/D4-Computer Vision-6-3-2025\n"
     ]
    }
   ],
   "source": [
    "!pwd"
   ]
  },
  {
   "cell_type": "code",
   "execution_count": 2,
   "id": "95dd0cf9-de7e-49bf-aa24-fefca61db623",
   "metadata": {
    "tags": []
   },
   "outputs": [
    {
     "name": "stdout",
     "output_type": "stream",
     "text": [
      "D4-CV kaggle data download 6-3-2025.ipynb\n"
     ]
    }
   ],
   "source": [
    "!ls"
   ]
  },
  {
   "cell_type": "code",
   "execution_count": null,
   "id": "fb9b3d9a-07b7-46b2-837d-a26060057faf",
   "metadata": {
    "tags": []
   },
   "outputs": [
    {
     "name": "stdout",
     "output_type": "stream",
     "text": [
      "Downloading d-4-computer-vision.zip to /Users/kinuthiagichuhi/AI_ML-18-12-2023/ all_my_notebooks/__FASTAI-Jarvislabs 27-2-2025/kaggle/D4-Computer Vision-6-3-2025\n",
      " 97%|████████████████████████████████████▊ | 6.02G/6.20G [31:53<00:55, 3.59MB/s]"
     ]
    }
   ],
   "source": [
    "!kaggle competitions download -c d-4-computer-vision"
   ]
  },
  {
   "cell_type": "code",
   "execution_count": null,
   "id": "54327189-b68d-452c-bca2-c6ee30e06f4b",
   "metadata": {},
   "outputs": [],
   "source": [
    "!pip install zip"
   ]
  },
  {
   "cell_type": "code",
   "execution_count": 2,
   "id": "bd5c7def-d29d-4326-932b-2642cca7c40c",
   "metadata": {},
   "outputs": [],
   "source": [
    "!unzip -q  d-4-computer-vision.zip"
   ]
  },
  {
   "cell_type": "code",
   "execution_count": 3,
   "id": "2a6cb8c3-8b00-48ff-9cb2-de4abf38f3b5",
   "metadata": {
    "tags": []
   },
   "outputs": [],
   "source": [
    "# delete the zip file\n",
    "!rm -r d-4-computer-vision.zip"
   ]
  },
  {
   "cell_type": "markdown",
   "id": "b5dcd842-9e09-49ea-a9ec-89ce4d755cea",
   "metadata": {},
   "source": [
    "## <font color=red> THE END 7-3-2025"
   ]
  },
  {
   "cell_type": "code",
   "execution_count": null,
   "id": "edcdab74-a918-43c0-8b86-5a56d20c0de8",
   "metadata": {},
   "outputs": [],
   "source": []
  }
 ],
 "metadata": {
  "kernelspec": {
   "display_name": "ml-macbook-M1-00",
   "language": "python",
   "name": "ml-macbook-m1-00"
  },
  "language_info": {
   "codemirror_mode": {
    "name": "ipython",
    "version": 3
   },
   "file_extension": ".py",
   "mimetype": "text/x-python",
   "name": "python",
   "nbconvert_exporter": "python",
   "pygments_lexer": "ipython3",
   "version": "3.11.8"
  }
 },
 "nbformat": 4,
 "nbformat_minor": 5
}
