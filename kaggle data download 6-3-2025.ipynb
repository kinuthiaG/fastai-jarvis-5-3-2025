{
 "cells": [
  {
   "cell_type": "code",
   "execution_count": 1,
   "id": "a395b7fc-8708-4799-8df3-ac1476874942",
   "metadata": {
    "tags": []
   },
   "outputs": [
    {
     "name": "stdout",
     "output_type": "stream",
     "text": [
      "/Users/kinuthiagichuhi/AI_ML-18-12-2023/ all_my_notebooks/__FASTAI-Jarvislabs 27-2-2025/kaggle\n"
     ]
    }
   ],
   "source": [
    "!pwd"
   ]
  },
  {
   "cell_type": "code",
   "execution_count": 3,
   "id": "0f892743-a97a-438c-9991-c01a859bbbea",
   "metadata": {
    "tags": []
   },
   "outputs": [
    {
     "name": "stdout",
     "output_type": "stream",
     "text": [
      "Collecting kagglehub\n",
      "  Obtaining dependency information for kagglehub from https://files.pythonhosted.org/packages/41/f5/d1fb003b997cccda7e7567e9768ab1ad5f4be014875773299c67c62b3b96/kagglehub-0.3.10-py3-none-any.whl.metadata\n",
      "  Downloading kagglehub-0.3.10-py3-none-any.whl.metadata (31 kB)\n",
      "Requirement already satisfied: packaging in /Users/kinuthiagichuhi/anaconda3/lib/python3.11/site-packages (from kagglehub) (23.1)\n",
      "Requirement already satisfied: pyyaml in /Users/kinuthiagichuhi/anaconda3/lib/python3.11/site-packages (from kagglehub) (6.0)\n",
      "Requirement already satisfied: requests in /Users/kinuthiagichuhi/anaconda3/lib/python3.11/site-packages (from kagglehub) (2.31.0)\n",
      "Requirement already satisfied: tqdm in /Users/kinuthiagichuhi/anaconda3/lib/python3.11/site-packages (from kagglehub) (4.65.0)\n",
      "Requirement already satisfied: charset-normalizer<4,>=2 in /Users/kinuthiagichuhi/anaconda3/lib/python3.11/site-packages (from requests->kagglehub) (2.0.4)\n",
      "Requirement already satisfied: idna<4,>=2.5 in /Users/kinuthiagichuhi/anaconda3/lib/python3.11/site-packages (from requests->kagglehub) (3.4)\n",
      "Requirement already satisfied: urllib3<3,>=1.21.1 in /Users/kinuthiagichuhi/anaconda3/lib/python3.11/site-packages (from requests->kagglehub) (1.26.16)\n",
      "Requirement already satisfied: certifi>=2017.4.17 in /Users/kinuthiagichuhi/anaconda3/lib/python3.11/site-packages (from requests->kagglehub) (2024.8.30)\n",
      "Downloading kagglehub-0.3.10-py3-none-any.whl (63 kB)\n",
      "\u001b[2K   \u001b[90m━━━━━━━━━━━━━━━━━━━━━━━━━━━━━━━━━━━━━━━━\u001b[0m \u001b[32m63.0/63.0 kB\u001b[0m \u001b[31m3.6 MB/s\u001b[0m eta \u001b[36m0:00:00\u001b[0m\n",
      "\u001b[?25hInstalling collected packages: kagglehub\n",
      "Successfully installed kagglehub-0.3.10\n"
     ]
    }
   ],
   "source": [
    "!pip install kagglehub"
   ]
  },
  {
   "cell_type": "code",
   "execution_count": 4,
   "id": "58e4d76e-6774-424f-a865-0db8e5aa7fba",
   "metadata": {
    "tags": []
   },
   "outputs": [
    {
     "name": "stdout",
     "output_type": "stream",
     "text": [
      "Downloading from https://www.kaggle.com/api/v1/datasets/download/kritikseth/fruit-and-vegetable-image-recognition?dataset_version_number=8...\n"
     ]
    },
    {
     "name": "stderr",
     "output_type": "stream",
     "text": [
      "100%|███████████████████████████████████████████████████████████████████████████████████| 1.98G/1.98G [10:09<00:00, 3.50MB/s]"
     ]
    },
    {
     "name": "stdout",
     "output_type": "stream",
     "text": [
      "Extracting files...\n"
     ]
    },
    {
     "name": "stderr",
     "output_type": "stream",
     "text": [
      "\n"
     ]
    },
    {
     "name": "stdout",
     "output_type": "stream",
     "text": [
      "Path to dataset files: /Users/kinuthiagichuhi/.cache/kagglehub/datasets/kritikseth/fruit-and-vegetable-image-recognition/versions/8\n"
     ]
    }
   ],
   "source": [
    "import kagglehub\n",
    "\n",
    "# Download latest version\n",
    "path = kagglehub.dataset_download(\"kritikseth/fruit-and-vegetable-image-recognition\")\n",
    "\n",
    "print(\"Path to dataset files:\", path)"
   ]
  },
  {
   "cell_type": "code",
   "execution_count": 7,
   "id": "d01655de-d82f-4edc-96db-a5fc9e84736f",
   "metadata": {
    "tags": []
   },
   "outputs": [],
   "source": [
    "!cd '/Users/kinuthiagichuhi/.cache/kagglehub/datasets/kritikseth/fruit-and-vegetable-image-recognition/versions/8'"
   ]
  },
  {
   "cell_type": "code",
   "execution_count": 8,
   "id": "95dd0cf9-de7e-49bf-aa24-fefca61db623",
   "metadata": {
    "tags": []
   },
   "outputs": [
    {
     "name": "stdout",
     "output_type": "stream",
     "text": [
      "Untitled.ipynb\n"
     ]
    }
   ],
   "source": [
    "!ls"
   ]
  },
  {
   "cell_type": "code",
   "execution_count": 11,
   "id": "fb9b3d9a-07b7-46b2-837d-a26060057faf",
   "metadata": {
    "tags": []
   },
   "outputs": [
    {
     "name": "stdout",
     "output_type": "stream",
     "text": [
      "401 - Unauthorized - Unauthenticated\n"
     ]
    }
   ],
   "source": [
    "!kaggle competitions download -c world-championship-2023-embryo-classification"
   ]
  },
  {
   "cell_type": "code",
   "execution_count": 14,
   "id": "f46fa986-a6eb-4c21-9d73-ea28ac42b5a9",
   "metadata": {
    "tags": []
   },
   "outputs": [],
   "source": [
    "!chmod 600 /Users/kinuthiagichuhi/.kaggle/kaggle.json"
   ]
  },
  {
   "cell_type": "code",
   "execution_count": 18,
   "id": "d0e674d9-7fd0-4290-ae21-7eea31a7881e",
   "metadata": {
    "tags": []
   },
   "outputs": [
    {
     "name": "stdout",
     "output_type": "stream",
     "text": [
      "Downloading world-championship-2023-embryo-classification.zip to /Users/kinuthiagichuhi/AI_ML-18-12-2023/ all_my_notebooks/__FASTAI-Jarvislabs 27-2-2025/kaggle\n",
      "100%|█████████████████████████████████████▊| 30.0M/30.1M [00:07<00:00, 3.03MB/s]\n",
      "100%|██████████████████████████████████████| 30.1M/30.1M [00:07<00:00, 3.99MB/s]\n"
     ]
    }
   ],
   "source": [
    "!kaggle competitions download -c world-championship-2023-embryo-classification"
   ]
  },
  {
   "cell_type": "code",
   "execution_count": 22,
   "id": "94488f60-e70e-4159-a51b-2c3f9d64e874",
   "metadata": {
    "tags": []
   },
   "outputs": [
    {
     "name": "stdout",
     "output_type": "stream",
     "text": [
      "403 - Forbidden - Permission 'competitions.participate' was denied\n"
     ]
    }
   ],
   "source": [
    "!kaggle competitions download -c computer-vision-homework-1"
   ]
  },
  {
   "cell_type": "code",
   "execution_count": 24,
   "id": "a98b2578-835a-4dac-b638-7bfd8eb4a8e1",
   "metadata": {},
   "outputs": [
    {
     "name": "stdout",
     "output_type": "stream",
     "text": [
      "Downloading 2025-computer-vision-homework-2.zip to /Users/kinuthiagichuhi/AI_ML-18-12-2023/ all_my_notebooks/__FASTAI-Jarvislabs 27-2-2025/kaggle\n",
      "100%|███████████████████████████████████████▉| 475M/475M [02:19<00:00, 3.48MB/s]\n",
      "100%|████████████████████████████████████████| 475M/475M [02:19<00:00, 3.58MB/s]\n"
     ]
    }
   ],
   "source": [
    "!kaggle competitions download -c 2025-computer-vision-homework-2"
   ]
  },
  {
   "cell_type": "code",
   "execution_count": 33,
   "id": "b05e18e4-ee78-4ffe-b34f-b9ab37d23a0e",
   "metadata": {
    "tags": []
   },
   "outputs": [],
   "source": [
    "!unzip -q 2025-computer-vision-homework-2\n",
    "# !unzip -q tabular-playground-series-apr-2021.zip"
   ]
  },
  {
   "cell_type": "code",
   "execution_count": null,
   "id": "bd5c7def-d29d-4326-932b-2642cca7c40c",
   "metadata": {},
   "outputs": [],
   "source": []
  }
 ],
 "metadata": {
  "kernelspec": {
   "display_name": "Python 3 (ipykernel)",
   "language": "python",
   "name": "python3"
  },
  "language_info": {
   "codemirror_mode": {
    "name": "ipython",
    "version": 3
   },
   "file_extension": ".py",
   "mimetype": "text/x-python",
   "name": "python",
   "nbconvert_exporter": "python",
   "pygments_lexer": "ipython3",
   "version": "3.11.5"
  }
 },
 "nbformat": 4,
 "nbformat_minor": 5
}
