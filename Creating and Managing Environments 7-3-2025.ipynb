{
 "cells": [
  {
   "cell_type": "markdown",
   "id": "3d479094-de6b-41ac-9659-deb6647f9155",
   "metadata": {},
   "source": [
    "### <font color=red> Jarvislabs - Creating and Managing Environments 7-3-2025"
   ]
  },
  {
   "cell_type": "code",
   "execution_count": null,
   "id": "fdfe172e-a202-4789-a45c-7e34fd2942d1",
   "metadata": {},
   "outputs": [],
   "source": [
    "# To create a new environment with Python 3.10, use the following command:\n",
    "\n",
    "conda create --prefix /home/fastai-2025 python=3.10 ipykernel -y\n",
    "\n",
    "conda activate /home/fastai-2025/ # SEE NEXT CELL IN CASE TERE IS SHOWS ERRORS\n",
    "\n",
    "conda install -c conda-forge jupyterlab -y\n",
    "\n",
    "pip install jupyter-autotime\n",
    "\n",
    "conda install ipykernel -y\n",
    "python -m ipykernel install --user --name fastai-2025 --display-name fastai-2025 \n"
   ]
  },
  {
   "cell_type": "code",
   "execution_count": null,
   "id": "8f7bf2bc-82d9-4903-8df8-33bfe8127d7b",
   "metadata": {},
   "outputs": [],
   "source": [
    "# If you encounter errors while activating,\n",
    "# try the following commands in a terminal:\n",
    "\n",
    "conda init bash\n",
    "source .bashrc"
   ]
  },
  {
   "cell_type": "code",
   "execution_count": null,
   "id": "b99893da-6909-4cf9-95a2-338e729e58dd",
   "metadata": {},
   "outputs": [],
   "source": [
    "# Activate the new environment\n",
    "conda activate /home/myenv/"
   ]
  },
  {
   "cell_type": "code",
   "execution_count": null,
   "id": "7a066e92-a909-46c0-aded-70785b2a6446",
   "metadata": {},
   "outputs": [],
   "source": [
    "3d.  fastai 2.6.3: DONE 8-5-2022 / 4-12-2023 NB: WORKED LIKE A CHARM == WILL UPGRADE LATER IF NEED BE.\n",
    "\n",
    "conda create --name fastai-2.6.3 python=3.9 -y\n",
    "conda activate fastai-2.6.3\n",
    "conda install -c fastai fastai -y\n",
    "pip install fastbook\n",
    "pip install nbdev\n",
    "conda install -c anaconda graphviz -y\n",
    "\n",
    "## To use fastai2.medical.imaging you'll also need to:\n",
    "conda install pyarrow -y\n",
    "pip install pydicom kornia opencv-python scikit-image\n",
    "\n",
    "pip install -Uqq fastai duckduckgo_search\n",
    "pip install fastdownload\n",
    "\n",
    "pip install jupyter-autotime\n",
    "conda install -c conda-forge jupyterlab -y\n",
    "\n",
    "conda install ipykernel -y\n",
    "python -m ipykernel install --user --name fastai-2.6.3 --display-name fastai-2.6.3 \n",
    "\n",
    "Etras:\n",
    "sudo apt-get -y install libjpeg-dev\n",
    "sudo apt-get -y install libpng-tools"
   ]
  }
 ],
 "metadata": {
  "kernelspec": {
   "display_name": "Python 3 (ipykernel)",
   "language": "python",
   "name": "python3"
  },
  "language_info": {
   "codemirror_mode": {
    "name": "ipython",
    "version": 3
   },
   "file_extension": ".py",
   "mimetype": "text/x-python",
   "name": "python",
   "nbconvert_exporter": "python",
   "pygments_lexer": "ipython3",
   "version": "3.11.5"
  }
 },
 "nbformat": 4,
 "nbformat_minor": 5
}
